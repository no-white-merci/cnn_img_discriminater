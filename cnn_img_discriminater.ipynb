{
  "nbformat": 4,
  "nbformat_minor": 0,
  "metadata": {
    "colab": {
      "name": "cnn_img_discriminater",
      "version": "0.3.2",
      "views": {},
      "default_view": {},
      "provenance": []
    },
    "kernelspec": {
      "name": "python3",
      "display_name": "Python 3"
    },
    "accelerator": "GPU"
  },
  "cells": [
    {
      "metadata": {
        "id": "GOTSbEE50u1l",
        "colab_type": "text"
      },
      "cell_type": "markdown",
      "source": [
        "# 画像判別機"
      ]
    },
    {
      "metadata": {
        "id": "SzM_CDDvzon6",
        "colab_type": "text"
      },
      "cell_type": "markdown",
      "source": [
        "## Google driveとColabの連携"
      ]
    },
    {
      "metadata": {
        "id": "5Rm0lQj-ztXk",
        "colab_type": "code",
        "colab": {
          "autoexec": {
            "startup": false,
            "wait_interval": 0
          }
        }
      },
      "cell_type": "code",
      "source": [
        "!apt-get install -y -qq software-properties-common python-software-properties module-init-tools\n",
        "!add-apt-repository -y ppa:alessandro-strada/ppa 2>&1 > /dev/null\n",
        "!apt-get update -qq 2>&1 > /dev/null\n",
        "!apt-get -y install -qq google-drive-ocamlfuse fuse"
      ],
      "execution_count": 0,
      "outputs": []
    },
    {
      "metadata": {
        "id": "RA2sivDazuI1",
        "colab_type": "code",
        "colab": {
          "autoexec": {
            "startup": false,
            "wait_interval": 0
          }
        }
      },
      "cell_type": "code",
      "source": [
        "# なぜかうまくいかへん\n",
        "from google.colab import auth\n",
        "auth.authenticate_user()\n",
        "from oauth2client.client import GoogleCredentials\n",
        "creds = GoogleCredentials.get_application_default()\n",
        "import getpass\n",
        "!google-drive-ocamlfuse -headless -id={creds.client_id} -secret={creds.client_secret} < /dev/null 2>&1 | grep URL\n",
        "vcode = getpass.getpass()\n",
        "!echo {vcode} | google-drive-ocamlfuse -headless -id={creds.client_id} -secret={creds.client_secret}"
      ],
      "execution_count": 0,
      "outputs": []
    },
    {
      "metadata": {
        "id": "P1Rb5S000pdW",
        "colab_type": "text"
      },
      "cell_type": "markdown",
      "source": [
        "## ファイルの手動アップロード"
      ]
    },
    {
      "metadata": {
        "id": "2iJf5qIy0tAB",
        "colab_type": "code",
        "colab": {
          "autoexec": {
            "startup": false,
            "wait_interval": 0
          }
        }
      },
      "cell_type": "code",
      "source": [
        "from google.colab import files\n",
        "uploaded = files.upload()"
      ],
      "execution_count": 0,
      "outputs": []
    },
    {
      "metadata": {
        "id": "ok7TG0OY3rdL",
        "colab_type": "text"
      },
      "cell_type": "markdown",
      "source": [
        "## ファイルから、numpy配列に格納"
      ]
    },
    {
      "metadata": {
        "id": "BnVWy-rN3m4T",
        "colab_type": "code",
        "colab": {
          "autoexec": {
            "startup": false,
            "wait_interval": 0
          }
        }
      },
      "cell_type": "code",
      "source": [
        "X = np.load(\"X_data.npy\")\n",
        "Y = np.load('Y_data.npy')"
      ],
      "execution_count": 0,
      "outputs": []
    },
    {
      "metadata": {
        "id": "IWYk2GHb2-qy",
        "colab_type": "text"
      },
      "cell_type": "markdown",
      "source": [
        "## ライブラリの import"
      ]
    },
    {
      "metadata": {
        "id": "srJ9Iwqi1Blg",
        "colab_type": "code",
        "colab": {
          "autoexec": {
            "startup": false,
            "wait_interval": 0
          }
        }
      },
      "cell_type": "code",
      "source": [
        "import os\n",
        "import glob\n",
        "import cv2\n",
        "import numpy as np\n",
        "import matplotlib.pyplot as plt\n",
        "import random\n",
        "import tensorflow as tf"
      ],
      "execution_count": 0,
      "outputs": []
    },
    {
      "metadata": {
        "id": "g2PZ-eCV3D3t",
        "colab_type": "code",
        "colab": {
          "autoexec": {
            "startup": false,
            "wait_interval": 0
          }
        }
      },
      "cell_type": "code",
      "source": [
        "import keras\n",
        "from keras.utils import np_utils\n",
        "from keras.layers.convolutional import Conv2D, MaxPooling2D\n",
        "from keras.models import Sequential\n",
        "from keras.layers.core import Dense, Dropout, Activation, Flatten\n",
        "from keras.preprocessing.image import array_to_img, img_to_array, list_pictures, load_img\n",
        "from sklearn.model_selection import train_test_split"
      ],
      "execution_count": 0,
      "outputs": []
    },
    {
      "metadata": {
        "id": "GAo3CoAV3VTK",
        "colab_type": "text"
      },
      "cell_type": "markdown",
      "source": [
        "## プロット時に羅線を削除する関数"
      ]
    },
    {
      "metadata": {
        "id": "wKT2PXwk3MN_",
        "colab_type": "code",
        "colab": {
          "autoexec": {
            "startup": false,
            "wait_interval": 0
          }
        }
      },
      "cell_type": "code",
      "source": [
        "def clearLabel(_ax):\n",
        "  _ax.tick_params(labelbottom=\"off\",bottom=\"off\")\n",
        "  _ax.tick_params(labelleft=\"off\",left=\"off\")\n",
        "  _ax.set_xticklabels([]) \n",
        "  _ax.axis('off')\n",
        "  return _ax"
      ],
      "execution_count": 0,
      "outputs": []
    },
    {
      "metadata": {
        "id": "zoEukiqL3yQc",
        "colab_type": "code",
        "colab": {
          "autoexec": {
            "startup": false,
            "wait_interval": 0
          }
        }
      },
      "cell_type": "code",
      "source": [
        "# test plot\n",
        "fig,ax = plt.subplots(dpi=40)\n",
        "clearLabel(ax)\n",
        "plt.imshow(X[0])\n",
        "plt.show()"
      ],
      "execution_count": 0,
      "outputs": []
    },
    {
      "metadata": {
        "id": "GaMZTcb6D2m6",
        "colab_type": "text"
      },
      "cell_type": "markdown",
      "source": [
        "## trainデータとtestデータへ分ける"
      ]
    },
    {
      "metadata": {
        "id": "GQ6w30D53bEK",
        "colab_type": "code",
        "colab": {
          "autoexec": {
            "startup": false,
            "wait_interval": 0
          }
        }
      },
      "cell_type": "code",
      "source": [
        "# 学習用データとテストデータ\n",
        "X_train, X_test, Y_train, Y_test = train_test_split(X , Y, test_size=0.33, random_state=111)"
      ],
      "execution_count": 0,
      "outputs": []
    },
    {
      "metadata": {
        "id": "LWFtej_YAdEg",
        "colab_type": "code",
        "colab": {
          "autoexec": {
            "startup": false,
            "wait_interval": 0
          }
        }
      },
      "cell_type": "code",
      "source": [
        "# check train data\n",
        "for i in range(100,110):\n",
        "  fig,ax = plt.subplots(dpi=40)\n",
        "  clearLabel(ax)\n",
        "  print(Y_train[i])\n",
        "  plt.imshow(X_train[i])\n",
        "  plt.show()"
      ],
      "execution_count": 0,
      "outputs": []
    },
    {
      "metadata": {
        "id": "4BHDgDDi4Pti",
        "colab_type": "text"
      },
      "cell_type": "markdown",
      "source": [
        "# モデルの構築"
      ]
    },
    {
      "metadata": {
        "id": "te9RlNcb4WNH",
        "colab_type": "text"
      },
      "cell_type": "markdown",
      "source": [
        "## 各パラメーターの設定"
      ]
    },
    {
      "metadata": {
        "id": "SsUCvvgX4Lxc",
        "colab_type": "code",
        "colab": {
          "autoexec": {
            "startup": false,
            "wait_interval": 0
          }
        }
      },
      "cell_type": "code",
      "source": [
        "#何回回すかの決定\n",
        "MAX_EPOCH = 1_500\n",
        "# サンプリングの数を設定\n",
        "BATCH_SIZE = 32"
      ],
      "execution_count": 0,
      "outputs": []
    },
    {
      "metadata": {
        "id": "blJ8GW304cqd",
        "colab_type": "text"
      },
      "cell_type": "markdown",
      "source": [
        "## CNNの構築"
      ]
    },
    {
      "metadata": {
        "id": "OhYmXBl74YlB",
        "colab_type": "code",
        "colab": {
          "autoexec": {
            "startup": false,
            "wait_interval": 0
          }
        }
      },
      "cell_type": "code",
      "source": [
        "# CNNを構築\n",
        "model = Sequential()\n",
        "\n",
        "model.add(Conv2D(32, (3, 3), padding='same', input_shape=X_train.shape[1:]))\n",
        "model.add(Activation('relu'))\n",
        "model.add(MaxPooling2D(pool_size=(2, 2)))\n",
        "\n",
        "model.add(Conv2D(64, (3, 3)))\n",
        "model.add(Activation('relu'))\n",
        "model.add(MaxPooling2D(pool_size=(2, 2)))\n",
        "model.add(Dropout(0.25))\n",
        "\n",
        "model.add(Conv2D(128, (3, 3), padding='same'))\n",
        "model.add(Activation('relu'))\n",
        "model.add(MaxPooling2D(pool_size=(2, 2)))\n",
        "model.add(Dropout(0.25))\n",
        "\n",
        "model.add(Flatten())\n",
        "model.add(Dense(1024))\n",
        "model.add(Activation('relu'))\n",
        "model.add(Dropout(0.5))\n",
        "model.add(Dense(3))       # クラスは3個\n",
        "model.add(Activation('softmax'))"
      ],
      "execution_count": 0,
      "outputs": []
    },
    {
      "metadata": {
        "id": "TUY7oEeb4jBH",
        "colab_type": "text"
      },
      "cell_type": "markdown",
      "source": [
        "## モデルのコンパイル"
      ]
    },
    {
      "metadata": {
        "id": "zn0uMQfr4hv5",
        "colab_type": "code",
        "colab": {
          "autoexec": {
            "startup": false,
            "wait_interval": 0
          }
        }
      },
      "cell_type": "code",
      "source": [
        "# optimizer の adam の設定\n",
        "adam = keras.optimizers.Adam(lr=1e-3)\n",
        "\n",
        "# optimizerにはadamを指定\n",
        "model.compile(loss='categorical_crossentropy',\n",
        "              optimizer=adam,\n",
        "              metrics=['accuracy'])"
      ],
      "execution_count": 0,
      "outputs": []
    },
    {
      "metadata": {
        "id": "bX_Dq0tm4vzV",
        "colab_type": "text"
      },
      "cell_type": "markdown",
      "source": [
        "## 実行"
      ]
    },
    {
      "metadata": {
        "id": "-IKDgXxQ4sxu",
        "colab_type": "code",
        "colab": {
          "autoexec": {
            "startup": false,
            "wait_interval": 0
          }
        }
      },
      "cell_type": "code",
      "source": [
        "history = model.fit(X_train, Y_train, batch_size=BATCH_SIZE, epochs=MAX_EPOCH,\n",
        "                   validation_data = (X_test, Y_test), verbose = 1)"
      ],
      "execution_count": 0,
      "outputs": []
    },
    {
      "metadata": {
        "id": "Pef60qYb-vIo",
        "colab_type": "text"
      },
      "cell_type": "markdown",
      "source": [
        "## 結果のプロット"
      ]
    },
    {
      "metadata": {
        "id": "IJmbN71lJmDI",
        "colab_type": "text"
      },
      "cell_type": "markdown",
      "source": [
        "# 予測"
      ]
    },
    {
      "metadata": {
        "id": "97hsIT4WLJd3",
        "colab_type": "text"
      },
      "cell_type": "markdown",
      "source": [
        "## 予測結果のプロット"
      ]
    },
    {
      "metadata": {
        "id": "1gtSOlfnLIsQ",
        "colab_type": "code",
        "colab": {
          "autoexec": {
            "startup": false,
            "wait_interval": 0
          }
        }
      },
      "cell_type": "code",
      "source": [
        "# ラベルの作成\n",
        "category = [\"新垣結衣\",\"有村架純\",\"本田翼\"]\n",
        "\n",
        "# ランダム関数\n",
        "import random\n",
        "def randam_data(data_set, label, batch_size) :\n",
        "    index = np.random.choice(len(data_set),batch_size)\n",
        "    data_set = data_set[index]\n",
        "    label = label[index]\n",
        "    return data_set, label\n",
        "  \n",
        "test_x, test_y = randam_data(X_test, Y_test, 5)\n",
        "pre_ram = model.predict(test_x)"
      ],
      "execution_count": 0,
      "outputs": []
    },
    {
      "metadata": {
        "id": "7wrlRgrkLR4E",
        "colab_type": "code",
        "colab": {
          "autoexec": {
            "startup": false,
            "wait_interval": 0
          }
        }
      },
      "cell_type": "code",
      "source": [
        "# plot\n",
        "for (i, pre) in enumerate(pre_ram):\n",
        "  y = pre.argmax()\n",
        "  y_ = test_y[i].argmax()\n",
        "  print(\"予測 :{0}  {1}% \".format(category[y], round(pre[y]*100)) )\n",
        "  print(\"正解: \", category[y_])\n",
        "  fix, ax = plt.subplots(dpi=30)\n",
        "  clearLabel(ax)\n",
        "  plt.imshow(test_x[i])\n",
        "  plt.show()"
      ],
      "execution_count": 0,
      "outputs": []
    },
    {
      "metadata": {
        "id": "H189MgElL8l-",
        "colab_type": "text"
      },
      "cell_type": "markdown",
      "source": [
        "## 他の画像をアップロードして予測！"
      ]
    },
    {
      "metadata": {
        "id": "WcoNi9wmMBXf",
        "colab_type": "code",
        "colab": {
          "autoexec": {
            "startup": false,
            "wait_interval": 0
          }
        }
      },
      "cell_type": "code",
      "source": [
        "uploaded = files.upload()\n",
        "!ls"
      ],
      "execution_count": 0,
      "outputs": []
    },
    {
      "metadata": {
        "id": "YjHARGGaLqf8",
        "colab_type": "code",
        "colab": {
          "autoexec": {
            "startup": false,
            "wait_interval": 0
          }
        }
      },
      "cell_type": "code",
      "source": [
        "img = cv2.imread(\"cat.JPG\")\n",
        "img = cv2.cvtColor(img, cv2.COLOR_BGR2RGB)\n",
        "img_ = cv2.resize(img, (56, 56))\n",
        "img_ = [img_ , img_]\n",
        "img_ = np.array(img_)\n",
        "\n",
        "img_= img_.astype('float32')\n",
        "img_ = img_ / 255.0\n",
        "\n",
        "predict = model.predict(img_)\n",
        "pre = predict[0]\n",
        "y = pre.argmax()\n",
        "print(\"予測 :{0}  {1}% \".format(category[y], round(pre[y]*100)) )\n",
        "print(\"新垣結衣: {0}%, 有村架純: {1}%, 本田翼: {2}%\".format(round(pre[0]*100),round(pre[1]*100),round(pre[2]*100)))\n",
        "fix, ax = plt.subplots(dpi=30)\n",
        "clearLabel(ax)\n",
        "plt.imshow(img_[1])\n",
        "plt.show()"
      ],
      "execution_count": 0,
      "outputs": []
    }
  ]
}
