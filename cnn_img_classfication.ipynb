{
  "nbformat": 4,
  "nbformat_minor": 0,
  "metadata": {
    "colab": {
      "name": "cnn_img_classfication",
      "version": "0.3.2",
      "views": {},
      "default_view": {},
      "provenance": []
    },
    "kernelspec": {
      "name": "python3",
      "display_name": "Python 3"
    },
    "accelerator": "GPU"
  },
  "cells": [
    {
      "metadata": {
        "id": "XiudEWDUSiiV",
        "colab_type": "text"
      },
      "cell_type": "markdown",
      "source": [
        "# **新垣、有村、本田画像判別機**"
      ]
    },
    {
      "metadata": {
        "id": "sxck8u_U092R",
        "colab_type": "text"
      },
      "cell_type": "markdown",
      "source": [
        "## ライブラリのimport"
      ]
    },
    {
      "metadata": {
        "id": "nSDxjokCSsb8",
        "colab_type": "code",
        "colab": {
          "autoexec": {
            "startup": false,
            "wait_interval": 0
          }
        }
      },
      "cell_type": "code",
      "source": [
        "import glob\n",
        "import cv2\n",
        "import numpy as np\n",
        "import matplotlib.pyplot as plt\n",
        "import random\n",
        "import tensorflow as tf\n",
        "import os"
      ],
      "execution_count": 0,
      "outputs": []
    },
    {
      "metadata": {
        "id": "Z9NUMF2JnBm2",
        "colab_type": "code",
        "colab": {
          "autoexec": {
            "startup": false,
            "wait_interval": 0
          }
        }
      },
      "cell_type": "code",
      "source": [
        "import keras\n",
        "from keras.utils import np_utils\n",
        "from keras.layers.convolutional import Conv2D, MaxPooling2D\n",
        "from keras.models import Sequential\n",
        "from keras.layers.core import Dense, Dropout, Activation, Flatten\n",
        "from keras.preprocessing.image import array_to_img, img_to_array, list_pictures, load_img\n",
        "from sklearn.model_selection import train_test_split"
      ],
      "execution_count": 0,
      "outputs": []
    },
    {
      "metadata": {
        "id": "fPl3RzgfrYOI",
        "colab_type": "text"
      },
      "cell_type": "markdown",
      "source": [
        "## driveと連携"
      ]
    },
    {
      "metadata": {
        "id": "pzTB7DGfz2ZQ",
        "colab_type": "code",
        "colab": {
          "autoexec": {
            "startup": false,
            "wait_interval": 0
          }
        }
      },
      "cell_type": "code",
      "source": [
        "!apt-get install -y -qq software-properties-common python-software-properties module-init-tools\n",
        "!add-apt-repository -y ppa:alessandro-strada/ppa 2>&1 > /dev/null\n",
        "!apt-get update -qq 2>&1 > /dev/null\n",
        "!apt-get -y install -qq google-drive-ocamlfuse fuse"
      ],
      "execution_count": 0,
      "outputs": []
    },
    {
      "metadata": {
        "id": "v-H5wHatrYae",
        "colab_type": "code",
        "colab": {
          "autoexec": {
            "startup": false,
            "wait_interval": 0
          }
        }
      },
      "cell_type": "code",
      "source": [
        "from google.colab import auth\n",
        "auth.authenticate_user()\n",
        "from oauth2client.client import GoogleCredentials\n",
        "creds = GoogleCredentials.get_application_default()\n",
        "import getpass\n",
        "!google-drive-ocamlfuse -headless -id={creds.client_id} -secret={creds.client_secret} < /dev/null 2>&1 | grep URL\n",
        "vcode = getpass.getpass()\n",
        "!echo {vcode} | google-drive-ocamlfuse -headless -id={creds.client_id} -secret={creds.client_secret}\n",
        "\n",
        "# 4/AABNGuqf5uPW-_ysCYL0derXJYBw2HbApAS1XcLZUU8i8JwRsIezfio"
      ],
      "execution_count": 0,
      "outputs": []
    },
    {
      "metadata": {
        "id": "eMd924gCrbx7",
        "colab_type": "code",
        "colab": {
          "autoexec": {
            "startup": false,
            "wait_interval": 0
          }
        }
      },
      "cell_type": "code",
      "source": [
        "!mkdir -p drive\n",
        "!google-drive-ocamlfuse drive\n",
        "!ls drive/\"Colab Notebooks\"/imgs"
      ],
      "execution_count": 0,
      "outputs": []
    },
    {
      "metadata": {
        "id": "Rnjx2s81Yipd",
        "colab_type": "text"
      },
      "cell_type": "markdown",
      "source": [
        "## 画像を読み込んでnumpy配列にコンバートする関数"
      ]
    },
    {
      "metadata": {
        "id": "utP7fmwCUG4n",
        "colab_type": "code",
        "colab": {
          "autoexec": {
            "startup": false,
            "wait_interval": 0
          }
        }
      },
      "cell_type": "code",
      "source": [
        "def load_pic(data_path):\n",
        "    # goodファイルのパスの読み込み\n",
        "    path_list = glob.glob('drive/Colab Notebooks/imgs/' + data_path + '/*')\n",
        "    # 画像読み込み用のリストの用意\n",
        "    file_list = [None for i in range(len(path_list))]\n",
        "\n",
        "    # 画像の読み込み\n",
        "    for i in range(len(path_list)):\n",
        "        file_list[i] = cv2.imread(path_list[i])\n",
        "        #bgrからrgbへの変換(openCVでは一般的にBGR)  \n",
        "        file_list[i] = cv2.cvtColor(file_list[i], cv2.COLOR_BGR2RGB)\n",
        "        # size を 56*56にサイズ変更\n",
        "        file_list[i] = cv2.resize(file_list[i], (56, 56))\n",
        "    file_np = np.array(file_list)\n",
        "\n",
        "    # ランダム数列を作成\n",
        "    indices = np.arange(len(path_list))\n",
        "    np.random.shuffle(indices)\n",
        "    # 配列の順番をシャッフル\n",
        "    file_list = file_np[indices]\n",
        "    \n",
        "    return file_list"
      ],
      "execution_count": 0,
      "outputs": []
    },
    {
      "metadata": {
        "id": "7qosbIIuHKpn",
        "colab_type": "text"
      },
      "cell_type": "markdown",
      "source": [
        "## pltの際のグリッド線の削除"
      ]
    },
    {
      "metadata": {
        "id": "RGaaDk1-HGS1",
        "colab_type": "code",
        "colab": {
          "autoexec": {
            "startup": false,
            "wait_interval": 0
          }
        }
      },
      "cell_type": "code",
      "source": [
        "# clear label\n",
        "def clearLabel(_ax):\n",
        "  _ax.tick_params(labelbottom=\"off\",bottom=\"off\")\n",
        "  _ax.tick_params(labelleft=\"off\",left=\"off\")\n",
        "  _ax.set_xticklabels([]) \n",
        "  _ax.axis('off')\n",
        "  return _ax"
      ],
      "execution_count": 0,
      "outputs": []
    },
    {
      "metadata": {
        "id": "qT3-d9m9U5vS",
        "colab_type": "code",
        "colab": {
          "autoexec": {
            "startup": false,
            "wait_interval": 0
          }
        }
      },
      "cell_type": "code",
      "source": [
        "#ガッキーの読み込み\n",
        "aragaki = load_pic(\"aragaki\")\n",
        "fig, ax = plt.subplots(dpi=30)\n",
        "clearLabel(ax)\n",
        "plt.imshow(aragaki[0])\n",
        "plt.show()"
      ],
      "execution_count": 0,
      "outputs": []
    },
    {
      "metadata": {
        "id": "OnswNs8vU-Nc",
        "colab_type": "code",
        "colab": {
          "autoexec": {
            "startup": false,
            "wait_interval": 0
          }
        }
      },
      "cell_type": "code",
      "source": [
        "#有村架純の読み込み\n",
        "arimura = load_pic(\"arimura\")\n",
        "fig, ax = plt.subplots(dpi=30)\n",
        "clearLabel(ax)\n",
        "plt.imshow(arimura[0])\n",
        "plt.show()"
      ],
      "execution_count": 0,
      "outputs": []
    },
    {
      "metadata": {
        "id": "nyKayLaaWajy",
        "colab_type": "code",
        "colab": {
          "autoexec": {
            "startup": false,
            "wait_interval": 0
          }
        }
      },
      "cell_type": "code",
      "source": [
        "#本田翼の読み込み\n",
        "honda = load_pic(\"honda\")\n",
        "fig, ax = plt.subplots(dpi=30)\n",
        "clearLabel(ax)\n",
        "plt.imshow(honda[0])\n",
        "plt.show()"
      ],
      "execution_count": 0,
      "outputs": []
    },
    {
      "metadata": {
        "id": "uSGT5XWdNxtm",
        "colab_type": "code",
        "colab": {
          "autoexec": {
            "startup": false,
            "wait_interval": 0
          }
        }
      },
      "cell_type": "code",
      "source": [
        "# aragaki = load_pic(\"aragaki\", aragaki)\n",
        "# arimura = load_pic(\"arimura\", arimura)\n",
        "# honda = load_pic(\"honda\", honda)"
      ],
      "execution_count": 0,
      "outputs": []
    },
    {
      "metadata": {
        "id": "Y9cSDjQYYaiU",
        "colab_type": "text"
      },
      "cell_type": "markdown",
      "source": [
        "## リストの結合とラベリング"
      ]
    },
    {
      "metadata": {
        "id": "7RHlZWFlEzeE",
        "colab_type": "code",
        "colab": {
          "autoexec": {
            "startup": false,
            "wait_interval": 0
          }
        }
      },
      "cell_type": "code",
      "source": [
        "# marge\n",
        "X = np.concatenate([aragaki,arimura,honda])\n",
        "\n",
        "#ラベル作成\n",
        "Y = np.zeros([len(X)])\n",
        "Y[len(aragaki):] = 1\n",
        "Y[len(aragaki)+len(arimura):] = 2"
      ],
      "execution_count": 0,
      "outputs": []
    },
    {
      "metadata": {
        "id": "bHo_xNdME60E",
        "colab_type": "text"
      },
      "cell_type": "markdown",
      "source": [
        "## 正規化とOne-Hot 形式への変更(ex, 0-> [1,0,0], 2 -> [0,0,1])"
      ]
    },
    {
      "metadata": {
        "id": "XwUd9vZsEnV4",
        "colab_type": "code",
        "colab": {
          "autoexec": {
            "startup": false,
            "wait_interval": 0
          }
        }
      },
      "cell_type": "code",
      "source": [
        "# 画素値を0から1の範囲に変換\n",
        "X_ = X.astype('float32')\n",
        "X_ = X_ / 255.0\n",
        "\n",
        "# クラスの形式を変換\n",
        "Y_ = np_utils.to_categorical(Y, 3)\n",
        "\n",
        "# 学習用データとテストデータ\n",
        "X_train, X_test, Y_train, Y_test = train_test_split(X_, Y_, test_size=0.33, random_state=111)"
      ],
      "execution_count": 0,
      "outputs": []
    },
    {
      "metadata": {
        "id": "4UYp1UfkZcwG",
        "colab_type": "text"
      },
      "cell_type": "markdown",
      "source": [
        "## モデルの構築"
      ]
    },
    {
      "metadata": {
        "id": "Fvxht5nceMNV",
        "colab_type": "text"
      },
      "cell_type": "markdown",
      "source": [
        "## 各パラメータ"
      ]
    },
    {
      "metadata": {
        "id": "PvZ15Z1UeOMG",
        "colab_type": "code",
        "colab": {
          "autoexec": {
            "startup": false,
            "wait_interval": 0
          }
        }
      },
      "cell_type": "code",
      "source": [
        "#何回回すかの決定\n",
        "MAX_EPOCH = 1_500\n",
        "# サンプリングの数を設定\n",
        "BATCH_SIZE = 30"
      ],
      "execution_count": 0,
      "outputs": []
    },
    {
      "metadata": {
        "id": "8jwMS0LIbNkb",
        "colab_type": "text"
      },
      "cell_type": "markdown",
      "source": [
        "## モデルの構築2"
      ]
    },
    {
      "metadata": {
        "id": "rXofrf2qY7Ps",
        "colab_type": "code",
        "colab": {
          "autoexec": {
            "startup": false,
            "wait_interval": 0
          }
        }
      },
      "cell_type": "code",
      "source": [
        "# CNNを構築\n",
        "model = Sequential()\n",
        "\n",
        "model.add(Conv2D(32, (3, 3), padding='same',\n",
        "                 input_shape=X_train.shape[1:]))\n",
        "model.add(Activation('relu'))\n",
        "model.add(MaxPooling2D(pool_size=(2, 2)))\n",
        "\n",
        "model.add(Conv2D(64, (3, 3)))\n",
        "model.add(Activation('relu'))\n",
        "model.add(MaxPooling2D(pool_size=(2, 2)))\n",
        "model.add(Dropout(0.25))\n",
        "\n",
        "model.add(Conv2D(128, (3, 3), padding='same'))\n",
        "model.add(Activation('relu'))\n",
        "model.add(MaxPooling2D(pool_size=(2, 2)))\n",
        "model.add(Dropout(0.25))\n",
        "\n",
        "model.add(Flatten())\n",
        "model.add(Dense(1024))\n",
        "model.add(Activation('relu'))\n",
        "model.add(Dropout(0.5))\n",
        "model.add(Dense(3))       # クラスは3個\n",
        "model.add(Activation('softmax'))"
      ],
      "execution_count": 0,
      "outputs": []
    },
    {
      "metadata": {
        "id": "rSwQWoAacC_M",
        "colab_type": "text"
      },
      "cell_type": "markdown",
      "source": [
        "## モデルのコンパイル"
      ]
    },
    {
      "metadata": {
        "id": "MtvIb9kxazaY",
        "colab_type": "code",
        "colab": {
          "autoexec": {
            "startup": false,
            "wait_interval": 0
          }
        }
      },
      "cell_type": "code",
      "source": [
        "# optimizer には adam を指定\n",
        "adam = keras.optimizers.Adam(lr=1e-3)\n",
        "\n",
        "model.compile(loss='categorical_crossentropy',\n",
        "              optimizer=adam,\n",
        "              metrics=['accuracy'])"
      ],
      "execution_count": 0,
      "outputs": []
    },
    {
      "metadata": {
        "id": "iv8__18Qd_ti",
        "colab_type": "text"
      },
      "cell_type": "markdown",
      "source": [
        "## 実行"
      ]
    },
    {
      "metadata": {
        "id": "d48P1tIwcEuq",
        "colab_type": "code",
        "colab": {
          "autoexec": {
            "startup": false,
            "wait_interval": 0
          }
        }
      },
      "cell_type": "code",
      "source": [
        "history = model.fit(X_train, Y_train, batch_size=BATCH_SIZE, epochs=MAX_EPOCH,\n",
        "                   validation_data = (X_test, Y_test), verbose = 1)"
      ],
      "execution_count": 0,
      "outputs": []
    },
    {
      "metadata": {
        "id": "2jTq32yuSl9k",
        "colab_type": "text"
      },
      "cell_type": "markdown",
      "source": [
        "## 結果をプロット"
      ]
    },
    {
      "metadata": {
        "id": "EiOWKPdt41nZ",
        "colab_type": "code",
        "colab": {
          "autoexec": {
            "startup": false,
            "wait_interval": 0
          }
        }
      },
      "cell_type": "code",
      "source": [
        "plt.plot(history.history['acc'])\n",
        "plt.plot(history.history['val_acc'])\n",
        "plt.title('model accuracy')\n",
        "plt.xlabel('epoch')\n",
        "plt.ylabel('accuracy')\n",
        "plt.legend(['acc', 'val_acc'], loc='lower right')\n",
        "plt.show()"
      ],
      "execution_count": 0,
      "outputs": []
    },
    {
      "metadata": {
        "id": "_-L2oEzcSrkn",
        "colab_type": "text"
      },
      "cell_type": "markdown",
      "source": [
        "# 予測"
      ]
    },
    {
      "metadata": {
        "id": "-OQM89Lm44u4",
        "colab_type": "code",
        "colab": {
          "autoexec": {
            "startup": false,
            "wait_interval": 0
          }
        }
      },
      "cell_type": "code",
      "source": [
        "# predict = model.predict( data_list )"
      ],
      "execution_count": 0,
      "outputs": []
    },
    {
      "metadata": {
        "id": "eNSLQDDC6oN3",
        "colab_type": "code",
        "colab": {
          "autoexec": {
            "startup": false,
            "wait_interval": 0
          }
        }
      },
      "cell_type": "code",
      "source": [
        "# カテゴリの作成\n",
        "category = [\"新垣結衣\",\"有村架純\",\"本田翼\"]\n",
        "\n",
        "# random関数の作成\n",
        "import random\n",
        "def randam_data(data_set, label, batch_size) :\n",
        "    index = np.random.choice(len(data_set),batch_size)\n",
        "    data_set = data_set[index]\n",
        "    label = label[index]\n",
        "    return data_set, label"
      ],
      "execution_count": 0,
      "outputs": []
    },
    {
      "metadata": {
        "id": "Hzrao7hfS6VG",
        "colab_type": "text"
      },
      "cell_type": "markdown",
      "source": [
        "## 予測"
      ]
    },
    {
      "metadata": {
        "id": "VdaShzNAFkT5",
        "colab_type": "code",
        "colab": {
          "autoexec": {
            "startup": false,
            "wait_interval": 0
          }
        }
      },
      "cell_type": "code",
      "source": [
        "test_x, test_y = randam_data(X_test, Y_test, 5)\n",
        "pre_ram = model.predict(test_x)"
      ],
      "execution_count": 0,
      "outputs": []
    },
    {
      "metadata": {
        "id": "pjb6KTKR45Ts",
        "colab_type": "code",
        "colab": {
          "autoexec": {
            "startup": false,
            "wait_interval": 0
          }
        }
      },
      "cell_type": "code",
      "source": [
        "for (i, pre) in enumerate(pre_ram):\n",
        "  y = pre.argmax()\n",
        "  y_ = test_y[i].argmax()\n",
        "  print(\"予測 :{0}  {1}% \".format(category[y], round(pre[y]*100)) )\n",
        "  print(\"正解: \", category[y_])\n",
        "  fix, ax = plt.subplots(dpi=30)\n",
        "  clearLabel(ax)\n",
        "  plt.imshow(test_x[i])\n",
        "  plt.show()"
      ],
      "execution_count": 0,
      "outputs": []
    },
    {
      "metadata": {
        "id": "9R9Aj6VxTGak",
        "colab_type": "text"
      },
      "cell_type": "markdown",
      "source": [
        "## 任意のファイルで予測テスト"
      ]
    },
    {
      "metadata": {
        "id": "UulEa4aFTJ_1",
        "colab_type": "text"
      },
      "cell_type": "markdown",
      "source": [
        "## ファイルのアップロード"
      ]
    },
    {
      "metadata": {
        "id": "eECB_PeRuYE9",
        "colab_type": "code",
        "colab": {
          "autoexec": {
            "startup": false,
            "wait_interval": 0
          }
        }
      },
      "cell_type": "code",
      "source": [
        "from google.colab import files\n",
        "uploaded = files.upload()\n",
        "!ls"
      ],
      "execution_count": 0,
      "outputs": []
    },
    {
      "metadata": {
        "id": "jqHKlFsC45nO",
        "colab_type": "code",
        "colab": {
          "autoexec": {
            "startup": false,
            "wait_interval": 0
          }
        }
      },
      "cell_type": "code",
      "source": [
        "img = cv2.imread(\"face2.jpg\")\n",
        "img = cv2.cvtColor(img, cv2.COLOR_BGR2RGB)\n",
        "img_ = cv2.resize(img, (56, 56))\n",
        "img_ = [img_ , img_]\n",
        "img_ = np.array(img_)\n",
        "\n",
        "img_= img_.astype('float32')\n",
        "img_ = img_ / 255.0\n",
        "\n",
        "predict = model.predict(img_)\n",
        "pre = predict[0]\n",
        "y = pre.argmax()\n",
        "print(\"予測 :{0}  {1}% \".format(category[y], round(pre[y]*100)) )\n",
        "print(\"新垣結衣: {0}%, 有村架純: {1}%, 本田翼: {2}%\".format(round(pre[0]*100),round(pre[1]*100),round(pre[2]*100)))\n",
        "fix, ax = plt.subplots(dpi=30)\n",
        "clearLabel(ax)\n",
        "plt.imshow(img_[1])\n",
        "plt.show()"
      ],
      "execution_count": 0,
      "outputs": []
    }
  ]
}